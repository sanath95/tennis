{
 "cells": [
  {
   "cell_type": "code",
   "execution_count": null,
   "metadata": {},
   "outputs": [],
   "source": [
    "import os\n",
    "import cv2\n",
    "import numpy as np\n",
    "from keras.applications.inception_v3 import InceptionV3, preprocess_input\n",
    "from keras.models import Model, Sequential"
   ]
  },
  {
   "cell_type": "code",
   "execution_count": null,
   "metadata": {},
   "outputs": [],
   "source": [
    "def load_xnn_model():\n",
    "    base_model = InceptionV3(weights='imagenet', include_top=True)\n",
    "    \n",
    "    #print(base_model.summary())\n",
    "    #print base_model.get_layer('global_max_pooling2d_1').output\n",
    "    outputs = base_model.get_layer('avg_pool').output\n",
    "\n",
    "    xnn_model = Model(inputs=base_model.input, outputs=outputs)\n",
    "\n",
    "    return xnn_model"
   ]
  },
  {
   "cell_type": "code",
   "execution_count": null,
   "metadata": {},
   "outputs": [],
   "source": [
    "xnn_model=load_xnn_model()"
   ]
  },
  {
   "cell_type": "code",
   "execution_count": null,
   "metadata": {},
   "outputs": [],
   "source": [
    "from keras.models import load_model\n",
    "rnn_model = load_model(\"lrcnn-6class-model.h5\")"
   ]
  },
  {
   "cell_type": "code",
   "execution_count": null,
   "metadata": {},
   "outputs": [],
   "source": [
    "path='latest_frames'\n",
    "folders=os.listdir(path)\n",
    "X=[]\n",
    "for folder in folders:\n",
    "    fpath=os.path.join(path,folder)\n",
    "    all_frames=os.listdir(fpath)\n",
    "    \n",
    "    frames=[]\n",
    "    for frame in all_frames:\n",
    "        image=cv2.imread(os.path.join(fpath,frame))\n",
    "        #image=cv2.cvtColor(image, cv2.COLOR_BGR2RGB)\n",
    "        image=cv2.resize(image,(480,640))\n",
    "        frames.append(image)\n",
    "        \n",
    "    sequence = []\n",
    "    for img in frames:\n",
    "        #x = image.img_to_array(img)\n",
    "        x = np.expand_dims(img, axis=0)\n",
    "        x = preprocess_input(x)\n",
    "        features = xnn_model.predict(x) # for some reason not on graph?\n",
    "        #print(x)\n",
    "        #print(features[0])\n",
    "        sequence.append(features[0])\n",
    "        \n",
    "    X.append(sequence)\n",
    "    \n",
    "X=np.array(X)\n",
    "print(X.shape)\n",
    "results=rnn_model.predict_classes(X)\n",
    "\n",
    "for i,result in zip(folders,results):\n",
    "    if result==0:\n",
    "        x='Backhand'\n",
    "    elif result==1:\n",
    "        x='BVolley'\n",
    "    elif result==2:\n",
    "        x='Forehand'\n",
    "    elif result==3:\n",
    "        x='FVolley'\n",
    "    elif result==4:\n",
    "        x='Service'\n",
    "    else:\n",
    "        x='Smash'\n",
    "    print(i,'-',x)"
   ]
  },
  {
   "cell_type": "code",
   "execution_count": null,
   "metadata": {},
   "outputs": [],
   "source": []
  }
 ],
 "metadata": {
  "kernelspec": {
   "display_name": "Python 3",
   "language": "python",
   "name": "python3"
  },
  "language_info": {
   "codemirror_mode": {
    "name": "ipython",
    "version": 3
   },
   "file_extension": ".py",
   "mimetype": "text/x-python",
   "name": "python",
   "nbconvert_exporter": "python",
   "pygments_lexer": "ipython3",
   "version": "3.6.10"
  }
 },
 "nbformat": 4,
 "nbformat_minor": 4
}
